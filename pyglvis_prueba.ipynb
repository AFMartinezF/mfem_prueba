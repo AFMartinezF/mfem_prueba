{
 "cells": [
  {
   "cell_type": "code",
   "execution_count": 1,
   "metadata": {},
   "outputs": [],
   "source": [
    "import mfem.ser as mfem\n",
    "from glvis import glvis, to_stream"
   ]
  },
  {
   "cell_type": "code",
   "execution_count": null,
   "metadata": {},
   "outputs": [],
   "source": [
    "glvis(data[, width=640, height=480])\n",
    "\n",
    "# or assign if you want to update later\n",
    "g = glvis(data)\n",
    "# run a cell with `g` to show it\n",
    "g"
   ]
  },
  {
   "cell_type": "code",
   "execution_count": null,
   "metadata": {},
   "outputs": [
    {
     "name": "stdout",
     "output_type": "stream",
     "text": [
      "Size of linear system: 121\n",
      "   Iteration :   0  (B r, r) = 0.00663539\n",
      "   Iteration :   1  (B r, r) = 0.00371547\n",
      "   Iteration :   2  (B r, r) = 0.000455545\n",
      "   Iteration :   3  (B r, r) = 1.36394e-05\n",
      "   Iteration :   4  (B r, r) = 4.13047e-07\n",
      "   Iteration :   5  (B r, r) = 2.24933e-08\n",
      "   Iteration :   6  (B r, r) = 6.42285e-10\n",
      "   Iteration :   7  (B r, r) = 3.89967e-11\n",
      "   Iteration :   8  (B r, r) = 5.72023e-12\n",
      "   Iteration :   9  (B r, r) = 1.02049e-13\n",
      "   Iteration :  10  (B r, r) = 3.54358e-16\n",
      "Average reduction factor = 0.21696\n"
     ]
    },
    {
     "ename": "TypeError",
     "evalue": "tuple indices must be integers or slices, not tuple",
     "output_type": "error",
     "traceback": [
      "\u001b[0;31m---------------------------------------------------------------------------\u001b[0m",
      "\u001b[0;31mTypeError\u001b[0m                                 Traceback (most recent call last)",
      "Cell \u001b[0;32mIn[2], line 61\u001b[0m\n\u001b[1;32m     58\u001b[0m \u001b[38;5;28;01mimport\u001b[39;00m \u001b[38;5;21;01mmatplotlib\u001b[39;00m\u001b[38;5;21;01m.\u001b[39;00m\u001b[38;5;21;01mpyplot\u001b[39;00m \u001b[38;5;28;01mas\u001b[39;00m \u001b[38;5;21;01mplt\u001b[39;00m\n\u001b[1;32m     59\u001b[0m \u001b[38;5;28;01mimport\u001b[39;00m \u001b[38;5;21;01mmatplotlib\u001b[39;00m\u001b[38;5;21;01m.\u001b[39;00m\u001b[38;5;21;01mtri\u001b[39;00m \u001b[38;5;28;01mas\u001b[39;00m \u001b[38;5;21;01mtri\u001b[39;00m\n\u001b[0;32m---> 61\u001b[0m triang \u001b[38;5;241m=\u001b[39m tri\u001b[38;5;241m.\u001b[39mTriangulation(\u001b[43mverts\u001b[49m\u001b[43m[\u001b[49m\u001b[43m:\u001b[49m\u001b[43m,\u001b[49m\u001b[38;5;241;43m0\u001b[39;49m\u001b[43m]\u001b[49m, verts[:,\u001b[38;5;241m1\u001b[39m])\n\u001b[1;32m     63\u001b[0m fig1, ax1 \u001b[38;5;241m=\u001b[39m plt\u001b[38;5;241m.\u001b[39msubplots()\n\u001b[1;32m     64\u001b[0m ax1\u001b[38;5;241m.\u001b[39mset_aspect(\u001b[38;5;124m'\u001b[39m\u001b[38;5;124mequal\u001b[39m\u001b[38;5;124m'\u001b[39m)\n",
      "\u001b[0;31mTypeError\u001b[0m: tuple indices must be integers or slices, not tuple"
     ]
    }
   ],
   "source": [
    "import mfem.ser as mfem\n",
    "\n",
    "# create sample mesh for square shape\n",
    "mesh = mfem.Mesh(10, 10, \"TRIANGLE\")\n",
    "\n",
    "# create finite element function space\n",
    "fec = mfem.H1_FECollection(1, mesh.Dimension())   # H1 order=1\n",
    "fespace = mfem.FiniteElementSpace(mesh, fec)\n",
    "\n",
    "#\n",
    "ess_tdof_list = mfem.intArray()\n",
    "ess_bdr = mfem.intArray([1]*mesh.bdr_attributes.Size())\n",
    "fespace.GetEssentialTrueDofs(ess_bdr, ess_tdof_list)\n",
    "\n",
    "# constant coefficient (diffusion coefficient and RHS)\n",
    "alpha = mfem.ConstantCoefficient(1.0)\n",
    "rhs = mfem.ConstantCoefficient(1.0)\n",
    "\n",
    "# Note:\n",
    "#    Diffusion coefficient can be variable. To use numba-JIT compiled\n",
    "#    functio. Use the following, where x is numpy-like array.\n",
    "# @mfem.jit.scalar\n",
    "# def alpha(x):\n",
    "#     return x+1.0\n",
    "#\n",
    "\n",
    "# define Bilinear and Linear operator\n",
    "a = mfem.BilinearForm(fespace)\n",
    "a.AddDomainIntegrator(mfem.DiffusionIntegrator(alpha))\n",
    "a.Assemble()\n",
    "b = mfem.LinearForm(fespace)\n",
    "b.AddDomainIntegrator(mfem.DomainLFIntegrator(rhs))\n",
    "b.Assemble()\n",
    "\n",
    "# create gridfunction, which is where the solution vector is stored\n",
    "x = mfem.GridFunction(fespace);\n",
    "x.Assign(0.0)\n",
    "\n",
    "# form linear equation (AX=B)\n",
    "A = mfem.OperatorPtr()\n",
    "B = mfem.Vector()\n",
    "X = mfem.Vector()\n",
    "a.FormLinearSystem(ess_tdof_list, x, b, A, X, B);\n",
    "print(\"Size of linear system: \" + str(A.Height()))\n",
    "\n",
    "# solve it using PCG solver and store the solution to x\n",
    "AA = mfem.OperatorHandle2SparseMatrix(A)\n",
    "M = mfem.GSSmoother(AA)\n",
    "mfem.PCG(AA, M, B, X, 1, 200, 1e-12, 0.0)\n",
    "a.RecoverFEMSolution(X, b, x)\n",
    "\n",
    "# extract vertices and solution as numpy array\n",
    "verts = mesh.GetVertexArray()\n",
    "sol = x.GetDataArray()\n",
    "\n",
    "# plot solution using Matplotlib\n",
    "\n",
    "import matplotlib.pyplot as plt\n",
    "import matplotlib.tri as tri\n",
    "\n",
    "triang = tri.Triangulation(verts[:,0], verts[:,1])\n",
    "\n",
    "fig1, ax1 = plt.subplots()\n",
    "ax1.set_aspect('equal')\n",
    "tpc = ax1.tripcolor(triang, sol, shading='gouraud')\n",
    "fig1.colorbar(tpc)\n",
    "plt.show()"
   ]
  },
  {
   "cell_type": "code",
   "execution_count": 15,
   "metadata": {},
   "outputs": [],
   "source": [
    "import mfem.ser as mfem\n",
    "from glvis import glvis, to_stream"
   ]
  },
  {
   "cell_type": "code",
   "execution_count": 16,
   "metadata": {},
   "outputs": [
    {
     "name": "stdout",
     "output_type": "stream",
     "text": [
      "Size of the linear system: 441\n",
      "   Iteration :   0  (B r, r) = 0.00127274\n",
      "   Iteration :   1  (B r, r) = 0.00349488\n",
      "   Iteration :   2  (B r, r) = 0.00177954\n",
      "   Iteration :   3  (B r, r) = 0.00127536\n",
      "   Iteration :   4  (B r, r) = 0.000715054\n",
      "   Iteration :   5  (B r, r) = 0.000259268\n",
      "   Iteration :   6  (B r, r) = 9.09953e-05\n",
      "   Iteration :   7  (B r, r) = 9.86878e-06\n",
      "   Iteration :   8  (B r, r) = 1.00827e-06\n",
      "   Iteration :   9  (B r, r) = 3.5336e-07\n",
      "   Iteration :  10  (B r, r) = 2.78374e-08\n",
      "   Iteration :  11  (B r, r) = 5.71184e-09\n",
      "   Iteration :  12  (B r, r) = 4.61089e-10\n",
      "   Iteration :  13  (B r, r) = 7.13477e-11\n",
      "   Iteration :  14  (B r, r) = 5.73371e-11\n",
      "   Iteration :  15  (B r, r) = 1.75715e-11\n",
      "   Iteration :  16  (B r, r) = 8.13841e-13\n",
      "   Iteration :  17  (B r, r) = 1.67974e-13\n",
      "   Iteration :  18  (B r, r) = 3.59872e-14\n",
      "   Iteration :  19  (B r, r) = 1.89648e-14\n",
      "   Iteration :  20  (B r, r) = 2.07061e-14\n",
      "   Iteration :  21  (B r, r) = 3.14143e-15\n",
      "   Iteration :  22  (B r, r) = 5.9009e-16\n",
      "Average reduction factor = 0.524428\n"
     ]
    }
   ],
   "source": [
    "# Load the mesh from a local file\n",
    "# meshfile = '../../mfem/data/star.mesh'\n",
    "# mesh = mfem.Mesh(meshfile)\n",
    "\n",
    "# Alternatively, create a simple square mesh and refine it\n",
    "mesh = mfem.Mesh(5, 5, \"TRIANGLE\")\n",
    "mesh.UniformRefinement()\n",
    "\n",
    "# Create H1 finite element function space\n",
    "fec = mfem.H1_FECollection(2, mesh.Dimension()) # order=2\n",
    "fespace = mfem.FiniteElementSpace(mesh, fec)      \n",
    "\n",
    "# Determine essential degrees of freedom (the whole boundary here)\n",
    "ess_tdof_list = mfem.intArray()\n",
    "ess_bdr = mfem.intArray([1]*mesh.bdr_attributes.Size())\n",
    "fespace.GetEssentialTrueDofs(ess_bdr, ess_tdof_list)\n",
    "\n",
    "# Define Bilinear and Linear forms for the Laplace problem -Δu=1\n",
    "one = mfem.ConstantCoefficient(1.0)\n",
    "a = mfem.BilinearForm(fespace)\n",
    "a.AddDomainIntegrator(mfem.DiffusionIntegrator(one))\n",
    "a.Assemble()\n",
    "b = mfem.LinearForm(fespace)\n",
    "b.AddDomainIntegrator(mfem.DomainLFIntegrator(one))\n",
    "b.Assemble()\n",
    "\n",
    "# Create a grid function for the solution and initialize with 0\n",
    "x = mfem.GridFunction(fespace);\n",
    "x.Assign(0.0)\n",
    "\n",
    "# Form the linear system, AX=B, for the FEM discretization\n",
    "A = mfem.OperatorPtr()\n",
    "B = mfem.Vector()\n",
    "X = mfem.Vector()\n",
    "a.FormLinearSystem(ess_tdof_list, x, b, A, X, B);\n",
    "print(\"Size of the linear system: \" + str(A.Height()))\n",
    "\n",
    "# Solve the system using PCG solver and get the solution in x\n",
    "Asm = mfem.OperatorHandle2SparseMatrix(A)\n",
    "Msm = mfem.GSSmoother(Asm)\n",
    "mfem.PCG(Asm, Msm, B, X, 1, 200, 1e-12, 0.0)\n",
    "a.RecoverFEMSolution(X, b, x)"
   ]
  },
  {
   "cell_type": "code",
   "execution_count": 17,
   "metadata": {},
   "outputs": [
    {
     "data": {
      "application/vnd.jupyter.widget-view+json": {
       "model_id": "e8506ab119274f93962c15f4d35b51a5",
       "version_major": 2,
       "version_minor": 0
      },
      "text/plain": [
       "glvis(data_str='MFEM mesh v1.0\\n\\n#\\n# MFEM Geometry Types (see mesh/geom.hpp):\\n#\\n# POINT       = 0\\n# SEGME…"
      ]
     },
     "execution_count": 17,
     "metadata": {},
     "output_type": "execute_result"
    }
   ],
   "source": [
    "# Plot the mesh + solution (all GLVis keys and mouse commands work)\n",
    "glvis((mesh, x), 400, 400)"
   ]
  },
  {
   "cell_type": "code",
   "execution_count": 6,
   "metadata": {},
   "outputs": [
    {
     "data": {
      "application/vnd.jupyter.widget-view+json": {
       "model_id": "e1453ff7c12a4b6ab41cecd320746c7c",
       "version_major": 2,
       "version_minor": 0
      },
      "text/plain": [
       "glvis(data_str='MFEM mesh v1.0\\n\\n#\\n# MFEM Geometry Types (see mesh/geom.hpp):\\n#\\n# POINT       = 0\\n# SEGME…"
      ]
     },
     "execution_count": 6,
     "metadata": {},
     "output_type": "execute_result"
    }
   ],
   "source": [
    "# Plot the mesh only\n",
    "glvis(mesh)"
   ]
  },
  {
   "cell_type": "code",
   "execution_count": 7,
   "metadata": {},
   "outputs": [
    {
     "data": {
      "application/vnd.jupyter.widget-view+json": {
       "model_id": "577e19a542134c2f98e77e866e9ddef9",
       "version_major": 2,
       "version_minor": 0
      },
      "text/plain": [
       "glvis(data_str='MFEM mesh v1.0\\n\\n#\\n# MFEM Geometry Types (see mesh/geom.hpp):\\n#\\n# POINT       = 0\\n# SEGME…"
      ]
     },
     "execution_count": 7,
     "metadata": {},
     "output_type": "execute_result"
    }
   ],
   "source": [
    "g = glvis(to_stream(mesh,x) + 'keys ARjlmcbp*******')\n",
    "g.set_size(600, 400)\n",
    "g"
   ]
  },
  {
   "cell_type": "code",
   "execution_count": 12,
   "metadata": {},
   "outputs": [
    {
     "ename": "AttributeError",
     "evalue": "module 'pyglvis' has no attribute 'viewer'",
     "output_type": "error",
     "traceback": [
      "\u001b[0;31m---------------------------------------------------------------------------\u001b[0m",
      "\u001b[0;31mAttributeError\u001b[0m                            Traceback (most recent call last)",
      "Cell \u001b[0;32mIn[12], line 11\u001b[0m\n\u001b[1;32m      8\u001b[0m Z \u001b[38;5;241m=\u001b[39m np\u001b[38;5;241m.\u001b[39msin(X\u001b[38;5;241m*\u001b[39m\u001b[38;5;241m*\u001b[39m\u001b[38;5;241m2\u001b[39m \u001b[38;5;241m+\u001b[39m Y\u001b[38;5;241m*\u001b[39m\u001b[38;5;241m*\u001b[39m\u001b[38;5;241m2\u001b[39m)\n\u001b[1;32m     10\u001b[0m \u001b[38;5;66;03m# Crea una visualización con PyGLVis\u001b[39;00m\n\u001b[0;32m---> 11\u001b[0m viewer \u001b[38;5;241m=\u001b[39m \u001b[43mpyglvis\u001b[49m\u001b[38;5;241;43m.\u001b[39;49m\u001b[43mviewer\u001b[49m(show_boundary\u001b[38;5;241m=\u001b[39m\u001b[38;5;28;01mFalse\u001b[39;00m)\n\u001b[1;32m     12\u001b[0m viewer\u001b[38;5;241m.\u001b[39madd_surface(x, y, Z)\n\u001b[1;32m     14\u001b[0m \u001b[38;5;66;03m# Ajusta la vista según sea necesario\u001b[39;00m\n",
      "\u001b[0;31mAttributeError\u001b[0m: module 'pyglvis' has no attribute 'viewer'"
     ]
    }
   ],
   "source": [
    "import pyglvis\n",
    "import numpy as np\n",
    "\n",
    "# Crea algunos datos de ejemplo\n",
    "x = np.linspace(-1, 1, 100)\n",
    "y = np.linspace(-1, 1, 100)\n",
    "X, Y = np.meshgrid(x, y)\n",
    "Z = np.sin(X**2 + Y**2)\n",
    "\n",
    "# Crea una visualización con PyGLVis\n",
    "viewer = pyglvis.viewer(show_boundary=False)\n",
    "viewer.add_surface(x, y, Z)\n",
    "\n",
    "# Ajusta la vista según sea necesario\n",
    "viewer.set_view(azimuth=30, elevation=30, distance=2)\n",
    "\n",
    "# Exporta la visualización como un archivo .jpg\n",
    "viewer.save_image(\"output.jpg\", width=800, height=600, quality=95)\n"
   ]
  },
  {
   "cell_type": "code",
   "execution_count": null,
   "metadata": {},
   "outputs": [],
   "source": []
  }
 ],
 "metadata": {
  "kernelspec": {
   "display_name": "Python 3",
   "language": "python",
   "name": "python3"
  },
  "language_info": {
   "codemirror_mode": {
    "name": "ipython",
    "version": 3
   },
   "file_extension": ".py",
   "mimetype": "text/x-python",
   "name": "python",
   "nbconvert_exporter": "python",
   "pygments_lexer": "ipython3",
   "version": "3.10.13"
  }
 },
 "nbformat": 4,
 "nbformat_minor": 2
}
